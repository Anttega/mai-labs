{
 "cells": [
  {
   "cell_type": "markdown",
   "metadata": {},
   "source": [
    "#### Imports "
   ]
  },
  {
   "cell_type": "code",
   "execution_count": 1,
   "metadata": {},
   "outputs": [],
   "source": [
    "import pandas as pd\n",
    "from selenium import webdriver \n",
    "import time\n",
    "from random import shuffle"
   ]
  },
  {
   "cell_type": "markdown",
   "metadata": {},
   "source": [
    "#### План\n",
    "\n",
    "- Таблица предпочтений \n",
    "- Словарь станция-айди в яндекс.метро\n",
    "- Брут форс перебором считаем в словарь расстояние в минутах до каждой из станций в таблице\n",
    "- Наиболее близкая станция - берем ее предпочтение \n",
    "- Если одинаковые по времени - пишу \"не определились\""
   ]
  },
  {
   "cell_type": "code",
   "execution_count": 90,
   "metadata": {},
   "outputs": [],
   "source": [
    "# таблица предпочтенй\n",
    "prf = pd.read_csv('data/preferences.csv', header=None, names=['Station', 'Likes'])"
   ]
  },
  {
   "cell_type": "code",
   "execution_count": 91,
   "metadata": {},
   "outputs": [],
   "source": [
    "prf.loc[:,'Line'] = [2, 2, 2, 5, 7, 10, 9, 1, 6, 2, 5]"
   ]
  },
  {
   "cell_type": "code",
   "execution_count": 92,
   "metadata": {
    "scrolled": false
   },
   "outputs": [
    {
     "data": {
      "text/html": [
       "<div>\n",
       "<style scoped>\n",
       "    .dataframe tbody tr th:only-of-type {\n",
       "        vertical-align: middle;\n",
       "    }\n",
       "\n",
       "    .dataframe tbody tr th {\n",
       "        vertical-align: top;\n",
       "    }\n",
       "\n",
       "    .dataframe thead th {\n",
       "        text-align: right;\n",
       "    }\n",
       "</style>\n",
       "<table border=\"1\" class=\"dataframe\">\n",
       "  <thead>\n",
       "    <tr style=\"text-align: right;\">\n",
       "      <th></th>\n",
       "      <th>Station</th>\n",
       "      <th>Likes</th>\n",
       "      <th>Line</th>\n",
       "    </tr>\n",
       "  </thead>\n",
       "  <tbody>\n",
       "    <tr>\n",
       "      <th>0</th>\n",
       "      <td>Сокол</td>\n",
       "      <td>Кофе</td>\n",
       "      <td>2</td>\n",
       "    </tr>\n",
       "    <tr>\n",
       "      <th>1</th>\n",
       "      <td>Маяковская</td>\n",
       "      <td>Чай</td>\n",
       "      <td>2</td>\n",
       "    </tr>\n",
       "    <tr>\n",
       "      <th>2</th>\n",
       "      <td>Речной вокзал</td>\n",
       "      <td>Кофе</td>\n",
       "      <td>2</td>\n",
       "    </tr>\n",
       "    <tr>\n",
       "      <th>3</th>\n",
       "      <td>Белорусская</td>\n",
       "      <td>Чай</td>\n",
       "      <td>5</td>\n",
       "    </tr>\n",
       "    <tr>\n",
       "      <th>4</th>\n",
       "      <td>Сходненская</td>\n",
       "      <td>Кофе</td>\n",
       "      <td>7</td>\n",
       "    </tr>\n",
       "    <tr>\n",
       "      <th>5</th>\n",
       "      <td>Люблино</td>\n",
       "      <td>Кофе</td>\n",
       "      <td>10</td>\n",
       "    </tr>\n",
       "    <tr>\n",
       "      <th>6</th>\n",
       "      <td>Пражская</td>\n",
       "      <td>Чай</td>\n",
       "      <td>9</td>\n",
       "    </tr>\n",
       "    <tr>\n",
       "      <th>7</th>\n",
       "      <td>Юго-Западная</td>\n",
       "      <td>Чай</td>\n",
       "      <td>1</td>\n",
       "    </tr>\n",
       "    <tr>\n",
       "      <th>8</th>\n",
       "      <td>Калужская</td>\n",
       "      <td>Кофе</td>\n",
       "      <td>6</td>\n",
       "    </tr>\n",
       "    <tr>\n",
       "      <th>9</th>\n",
       "      <td>Ховрино</td>\n",
       "      <td>Чай</td>\n",
       "      <td>2</td>\n",
       "    </tr>\n",
       "    <tr>\n",
       "      <th>10</th>\n",
       "      <td>Павелецкая</td>\n",
       "      <td>Кофе</td>\n",
       "      <td>5</td>\n",
       "    </tr>\n",
       "  </tbody>\n",
       "</table>\n",
       "</div>"
      ],
      "text/plain": [
       "          Station Likes  Line\n",
       "0           Сокол  Кофе     2\n",
       "1      Маяковская   Чай     2\n",
       "2   Речной вокзал  Кофе     2\n",
       "3     Белорусская   Чай     5\n",
       "4     Сходненская  Кофе     7\n",
       "5         Люблино  Кофе    10\n",
       "6        Пражская   Чай     9\n",
       "7    Юго-Западная   Чай     1\n",
       "8       Калужская  Кофе     6\n",
       "9         Ховрино   Чай     2\n",
       "10     Павелецкая  Кофе     5"
      ]
     },
     "execution_count": 92,
     "metadata": {},
     "output_type": "execute_result"
    }
   ],
   "source": [
    "prf"
   ]
  },
  {
   "cell_type": "markdown",
   "metadata": {},
   "source": [
    "#### Таблица Станция - ID в Яндекс.Метро"
   ]
  },
  {
   "cell_type": "code",
   "execution_count": 6,
   "metadata": {},
   "outputs": [],
   "source": [
    "from metro_data import LINES, STATIONS"
   ]
  },
  {
   "cell_type": "code",
   "execution_count": 36,
   "metadata": {},
   "outputs": [],
   "source": [
    "id_table = pd.DataFrame(columns=['id','line','station']) "
   ]
  },
  {
   "cell_type": "code",
   "execution_count": 37,
   "metadata": {},
   "outputs": [],
   "source": [
    "for i in STATIONS.keys():\n",
    "    id_table.loc[i]=[i,STATIONS[i]['line'],STATIONS[i]['name']]"
   ]
  },
  {
   "cell_type": "code",
   "execution_count": 47,
   "metadata": {},
   "outputs": [
    {
     "data": {
      "text/html": [
       "<div>\n",
       "<style scoped>\n",
       "    .dataframe tbody tr th:only-of-type {\n",
       "        vertical-align: middle;\n",
       "    }\n",
       "\n",
       "    .dataframe tbody tr th {\n",
       "        vertical-align: top;\n",
       "    }\n",
       "\n",
       "    .dataframe thead th {\n",
       "        text-align: right;\n",
       "    }\n",
       "</style>\n",
       "<table border=\"1\" class=\"dataframe\">\n",
       "  <thead>\n",
       "    <tr style=\"text-align: right;\">\n",
       "      <th></th>\n",
       "      <th>id</th>\n",
       "      <th>line</th>\n",
       "      <th>station</th>\n",
       "    </tr>\n",
       "  </thead>\n",
       "  <tbody>\n",
       "    <tr>\n",
       "      <th>1</th>\n",
       "      <td>1</td>\n",
       "      <td>1</td>\n",
       "      <td>Бульвар Рокоссовского</td>\n",
       "    </tr>\n",
       "    <tr>\n",
       "      <th>2</th>\n",
       "      <td>2</td>\n",
       "      <td>1</td>\n",
       "      <td>Черкизовская</td>\n",
       "    </tr>\n",
       "    <tr>\n",
       "      <th>3</th>\n",
       "      <td>3</td>\n",
       "      <td>1</td>\n",
       "      <td>Преображенская площадь</td>\n",
       "    </tr>\n",
       "    <tr>\n",
       "      <th>4</th>\n",
       "      <td>4</td>\n",
       "      <td>1</td>\n",
       "      <td>Сокольники</td>\n",
       "    </tr>\n",
       "    <tr>\n",
       "      <th>5</th>\n",
       "      <td>5</td>\n",
       "      <td>1</td>\n",
       "      <td>Красносельская</td>\n",
       "    </tr>\n",
       "  </tbody>\n",
       "</table>\n",
       "</div>"
      ],
      "text/plain": [
       "  id line                 station\n",
       "1  1    1   Бульвар Рокоссовского\n",
       "2  2    1            Черкизовская\n",
       "3  3    1  Преображенская площадь\n",
       "4  4    1              Сокольники\n",
       "5  5    1          Красносельская"
      ]
     },
     "execution_count": 47,
     "metadata": {},
     "output_type": "execute_result"
    }
   ],
   "source": [
    "id_table.head()"
   ]
  },
  {
   "cell_type": "code",
   "execution_count": 39,
   "metadata": {},
   "outputs": [],
   "source": [
    "id_table.to_csv('data/id_table.csv', index=None)"
   ]
  },
  {
   "cell_type": "code",
   "execution_count": 48,
   "metadata": {
    "scrolled": true
   },
   "outputs": [
    {
     "data": {
      "text/html": [
       "<div>\n",
       "<style scoped>\n",
       "    .dataframe tbody tr th:only-of-type {\n",
       "        vertical-align: middle;\n",
       "    }\n",
       "\n",
       "    .dataframe tbody tr th {\n",
       "        vertical-align: top;\n",
       "    }\n",
       "\n",
       "    .dataframe thead th {\n",
       "        text-align: right;\n",
       "    }\n",
       "</style>\n",
       "<table border=\"1\" class=\"dataframe\">\n",
       "  <thead>\n",
       "    <tr style=\"text-align: right;\">\n",
       "      <th></th>\n",
       "      <th>line</th>\n",
       "      <th>line_name</th>\n",
       "    </tr>\n",
       "  </thead>\n",
       "  <tbody>\n",
       "    <tr>\n",
       "      <th>1</th>\n",
       "      <td>1</td>\n",
       "      <td>Сокольническая линия</td>\n",
       "    </tr>\n",
       "    <tr>\n",
       "      <th>2</th>\n",
       "      <td>2</td>\n",
       "      <td>Замоскворецкая линия</td>\n",
       "    </tr>\n",
       "    <tr>\n",
       "      <th>3</th>\n",
       "      <td>3</td>\n",
       "      <td>Арбатско-Покровская линия</td>\n",
       "    </tr>\n",
       "    <tr>\n",
       "      <th>4</th>\n",
       "      <td>4</td>\n",
       "      <td>Филевская линия</td>\n",
       "    </tr>\n",
       "    <tr>\n",
       "      <th>5</th>\n",
       "      <td>5</td>\n",
       "      <td>Кольцевая линия</td>\n",
       "    </tr>\n",
       "  </tbody>\n",
       "</table>\n",
       "</div>"
      ],
      "text/plain": [
       "  line                  line_name\n",
       "1    1       Сокольническая линия\n",
       "2    2       Замоскворецкая линия\n",
       "3    3  Арбатско-Покровская линия\n",
       "4    4            Филевская линия\n",
       "5    5            Кольцевая линия"
      ]
     },
     "execution_count": 48,
     "metadata": {},
     "output_type": "execute_result"
    }
   ],
   "source": [
    "lns = pd.DataFrame(columns=['line','line_name']) \n",
    "for i in LINES.keys():\n",
    "    lns.loc[i]=[i,LINES[i]]\n",
    "lns.head()"
   ]
  },
  {
   "cell_type": "code",
   "execution_count": 49,
   "metadata": {},
   "outputs": [],
   "source": [
    "metro = id_table.merge(lns, on='line', how='left')"
   ]
  },
  {
   "cell_type": "code",
   "execution_count": 51,
   "metadata": {},
   "outputs": [
    {
     "data": {
      "text/html": [
       "<div>\n",
       "<style scoped>\n",
       "    .dataframe tbody tr th:only-of-type {\n",
       "        vertical-align: middle;\n",
       "    }\n",
       "\n",
       "    .dataframe tbody tr th {\n",
       "        vertical-align: top;\n",
       "    }\n",
       "\n",
       "    .dataframe thead th {\n",
       "        text-align: right;\n",
       "    }\n",
       "</style>\n",
       "<table border=\"1\" class=\"dataframe\">\n",
       "  <thead>\n",
       "    <tr style=\"text-align: right;\">\n",
       "      <th></th>\n",
       "      <th>id</th>\n",
       "      <th>line</th>\n",
       "      <th>station</th>\n",
       "      <th>line_name</th>\n",
       "    </tr>\n",
       "  </thead>\n",
       "  <tbody>\n",
       "    <tr>\n",
       "      <th>0</th>\n",
       "      <td>1</td>\n",
       "      <td>1</td>\n",
       "      <td>Бульвар Рокоссовского</td>\n",
       "      <td>Сокольническая линия</td>\n",
       "    </tr>\n",
       "    <tr>\n",
       "      <th>1</th>\n",
       "      <td>2</td>\n",
       "      <td>1</td>\n",
       "      <td>Черкизовская</td>\n",
       "      <td>Сокольническая линия</td>\n",
       "    </tr>\n",
       "    <tr>\n",
       "      <th>2</th>\n",
       "      <td>3</td>\n",
       "      <td>1</td>\n",
       "      <td>Преображенская площадь</td>\n",
       "      <td>Сокольническая линия</td>\n",
       "    </tr>\n",
       "    <tr>\n",
       "      <th>3</th>\n",
       "      <td>4</td>\n",
       "      <td>1</td>\n",
       "      <td>Сокольники</td>\n",
       "      <td>Сокольническая линия</td>\n",
       "    </tr>\n",
       "    <tr>\n",
       "      <th>4</th>\n",
       "      <td>5</td>\n",
       "      <td>1</td>\n",
       "      <td>Красносельская</td>\n",
       "      <td>Сокольническая линия</td>\n",
       "    </tr>\n",
       "  </tbody>\n",
       "</table>\n",
       "</div>"
      ],
      "text/plain": [
       "  id line                 station             line_name\n",
       "0  1    1   Бульвар Рокоссовского  Сокольническая линия\n",
       "1  2    1            Черкизовская  Сокольническая линия\n",
       "2  3    1  Преображенская площадь  Сокольническая линия\n",
       "3  4    1              Сокольники  Сокольническая линия\n",
       "4  5    1          Красносельская  Сокольническая линия"
      ]
     },
     "execution_count": 51,
     "metadata": {},
     "output_type": "execute_result"
    }
   ],
   "source": [
    "metro.head()"
   ]
  },
  {
   "cell_type": "code",
   "execution_count": 50,
   "metadata": {},
   "outputs": [],
   "source": [
    "metro.to_csv('data/metro.csv', index=None)"
   ]
  },
  {
   "cell_type": "markdown",
   "metadata": {},
   "source": [
    "#### Запрос на Яндекс.Метро"
   ]
  },
  {
   "cell_type": "code",
   "execution_count": 54,
   "metadata": {},
   "outputs": [],
   "source": [
    "# инициализация браузера, в котором будут вычисления\n",
    "browser = webdriver.Chrome('/Users/devdariya/Downloads/chromedriver')"
   ]
  },
  {
   "cell_type": "code",
   "execution_count": 55,
   "metadata": {},
   "outputs": [],
   "source": [
    "def route_info(start, stop):\n",
    "    \n",
    "    browser.get(f'https://yandex.ru/metro/moscow?from={start}&to={stop}&route=0/') #загружаем страницу\n",
    "    time.sleep(1)\n",
    "    \n",
    "    # выполняем скрипт страницы (т.к. без его выполнения исходный код страницы\n",
    "    # не содержит необходимую информацию)\n",
    "    \n",
    "    browser.execute_script('//yastatic.net/s3/front-maps-static/front-metro/2.11.9/build/index/_index.ru.js') \n",
    "    time.sleep(1)\n",
    "    \n",
    "    #информация о времени содержится в классе \"route-list-item__time\" в формате \"≈ 10 мин.\"\n",
    "    str_time = browser.find_element_by_class_name('masstransit-route-snippet-view__route-duration').text \n",
    "    \n",
    "    #так как маршрут может занять больше часа, обрабатываем и такое время\n",
    "    #ищем подстроку с числом и преобразуем его в формат int\n",
    "    if ('м' in str_time)&('ч' in str_time):\n",
    "        return (int(str_time[str_time.find('≈')+1:str_time.find('ч')-1])*60 \n",
    "                + int(str_time[str_time.find('ч')+2:str_time.find('м')]))\n",
    "    elif 'ч' in str_time: \n",
    "        return (int(str_time[str_time.find('≈')+1:str_time.find('ч')-1])*60)\n",
    "    \n",
    "    return int(str_time[str_time.find('≈')+1:str_time.find('м')])"
   ]
  },
  {
   "cell_type": "code",
   "execution_count": 109,
   "metadata": {},
   "outputs": [],
   "source": [
    "# brute force\n",
    "def find_likes(id_new):\n",
    "    \n",
    "    routes = pd.DataFrame({'station':prf.Station,\n",
    "                           'prfr':  prf.Likes,\n",
    "                            'time':0})\n",
    "    for i in range(len(prf)):\n",
    "        id_st = metro[(metro.station==prf.Station[i])&(metro.line==prf.Line[i])].id.values[0]\n",
    "        routes.loc[routes.station==prf.Station[i], 'time'] = route_info(id_new, id_st)\n",
    "    \n",
    "    res = routes[routes.time==min(routes.time)]\n",
    "    if len(res) > 1:\n",
    "        if res.prfr.nunique() > 1:\n",
    "            return -1\n",
    "        else:\n",
    "            return res.prfr.unique()\n",
    "    else:\n",
    "        return res.prfr.unique()"
   ]
  },
  {
   "cell_type": "code",
   "execution_count": 110,
   "metadata": {},
   "outputs": [
    {
     "name": "stdout",
     "output_type": "stream",
     "text": [
      "Жители станции метро Арбатская вероятно предпочитают Чай\n"
     ]
    }
   ],
   "source": [
    "print('Жители станции метро {} вероятно предпочитают {}'.format(metro[metro.id==49].station.values[0], find_likes(49)[0]))"
   ]
  },
  {
   "cell_type": "markdown",
   "metadata": {},
   "source": [
    "#### Интерфейс выбора станции\n",
    "\n",
    "![Схема в 2018 году](http://news.metro.ru/18/mm20180830.jpg)\n",
    "\n"
   ]
  },
  {
   "cell_type": "code",
   "execution_count": 53,
   "metadata": {},
   "outputs": [],
   "source": [
    "import ipywidgets as widgets\n",
    "from ipywidgets import HBox, VBox\n",
    "import numpy as np\n",
    "import matplotlib.pyplot as plt\n",
    "from IPython.display import display\n",
    "%matplotlib inline\n",
    " "
   ]
  },
  {
   "cell_type": "code",
   "execution_count": null,
   "metadata": {},
   "outputs": [],
   "source": []
  },
  {
   "cell_type": "code",
   "execution_count": null,
   "metadata": {},
   "outputs": [],
   "source": []
  },
  {
   "cell_type": "code",
   "execution_count": null,
   "metadata": {},
   "outputs": [],
   "source": []
  },
  {
   "cell_type": "code",
   "execution_count": null,
   "metadata": {},
   "outputs": [],
   "source": []
  }
 ],
 "metadata": {
  "kernelspec": {
   "display_name": "Python 3",
   "language": "python",
   "name": "python3"
  },
  "language_info": {
   "codemirror_mode": {
    "name": "ipython",
    "version": 3
   },
   "file_extension": ".py",
   "mimetype": "text/x-python",
   "name": "python",
   "nbconvert_exporter": "python",
   "pygments_lexer": "ipython3",
   "version": "3.8.3"
  }
 },
 "nbformat": 4,
 "nbformat_minor": 4
}
