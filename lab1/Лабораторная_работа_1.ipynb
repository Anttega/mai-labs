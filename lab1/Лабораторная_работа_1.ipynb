{
 "cells": [
  {
   "cell_type": "markdown",
   "metadata": {},
   "source": [
    "#### Imports "
   ]
  },
  {
   "cell_type": "code",
   "execution_count": 58,
   "metadata": {},
   "outputs": [
    {
     "name": "stdout",
     "output_type": "stream",
     "text": [
      "Python 3.8.3\n",
      "Name: pandas\n",
      "Version: 1.0.5\n",
      "Summary: Powerful data structures for data analysis, time series, and statistics\n",
      "Home-page: https://pandas.pydata.org\n",
      "Author: None\n",
      "Author-email: None\n",
      "License: BSD\n",
      "Location: /Users/devdariya/opt/anaconda3/lib/python3.8/site-packages\n",
      "Requires: python-dateutil, numpy, pytz\n",
      "Required-by: statsmodels, seaborn\n",
      "---\n",
      "Name: selenium\n",
      "Version: 3.141.0\n",
      "Summary: Python bindings for Selenium\n",
      "Home-page: https://github.com/SeleniumHQ/selenium/\n",
      "Author: UNKNOWN\n",
      "Author-email: UNKNOWN\n",
      "License: Apache 2.0\n",
      "Location: /Users/devdariya/opt/anaconda3/lib/python3.8/site-packages\n",
      "Requires: urllib3\n",
      "Required-by: \n",
      "---\n",
      "Name: numpy\n",
      "Version: 1.18.5\n",
      "Summary: NumPy is the fundamental package for array computing with Python.\n",
      "Home-page: https://www.numpy.org\n",
      "Author: Travis E. Oliphant et al.\n",
      "Author-email: None\n",
      "License: BSD\n",
      "Location: /Users/devdariya/opt/anaconda3/lib/python3.8/site-packages\n",
      "Requires: \n",
      "Required-by: tables, statsmodels, seaborn, scipy, scikit-learn, PyWavelets, patsy, pandas, numexpr, numba, mkl-random, mkl-fft, matplotlib, imageio, h5py, Bottleneck, bokeh, bkcharts, astropy\n"
     ]
    }
   ],
   "source": [
    "!python --version\n",
    "!pip show pandas selenium numpy"
   ]
  },
  {
   "cell_type": "code",
   "execution_count": 59,
   "metadata": {},
   "outputs": [],
   "source": [
    "import os\n",
    "import time\n",
    "import functools\n",
    "from random import shuffle\n",
    "\n",
    "import numpy as np\n",
    "import pandas as pd\n",
    "from selenium import webdriver\n",
    "from selenium.webdriver.chrome.options import Options\n",
    "\n",
    "import warnings\n",
    "warnings.filterwarnings(\"ignore\")"
   ]
  },
  {
   "cell_type": "markdown",
   "metadata": {},
   "source": [
    "#### План\n",
    "\n",
    "- Таблица предпочтений \n",
    "- Словарь станция-айди в яндекс.метро\n",
    "- Брут форс перебором считаем в словарь расстояние в минутах до каждой из станций в таблице\n",
    "- Наиболее близкая станция - берем ее предпочтение \n",
    "- Если одинаковые по времени - пишу \"не определились\""
   ]
  },
  {
   "cell_type": "code",
   "execution_count": 60,
   "metadata": {},
   "outputs": [
    {
     "data": {
      "text/html": [
       "<div>\n",
       "<style scoped>\n",
       "    .dataframe tbody tr th:only-of-type {\n",
       "        vertical-align: middle;\n",
       "    }\n",
       "\n",
       "    .dataframe tbody tr th {\n",
       "        vertical-align: top;\n",
       "    }\n",
       "\n",
       "    .dataframe thead th {\n",
       "        text-align: right;\n",
       "    }\n",
       "</style>\n",
       "<table border=\"1\" class=\"dataframe\">\n",
       "  <thead>\n",
       "    <tr style=\"text-align: right;\">\n",
       "      <th></th>\n",
       "      <th>Station</th>\n",
       "      <th>Likes</th>\n",
       "      <th>Line</th>\n",
       "      <th>Station_id</th>\n",
       "    </tr>\n",
       "  </thead>\n",
       "  <tbody>\n",
       "    <tr>\n",
       "      <th>0</th>\n",
       "      <td>Сокол</td>\n",
       "      <td>Кофе</td>\n",
       "      <td>2</td>\n",
       "      <td>23</td>\n",
       "    </tr>\n",
       "    <tr>\n",
       "      <th>1</th>\n",
       "      <td>Маяковская</td>\n",
       "      <td>Чай</td>\n",
       "      <td>2</td>\n",
       "      <td>27</td>\n",
       "    </tr>\n",
       "    <tr>\n",
       "      <th>2</th>\n",
       "      <td>Речной вокзал</td>\n",
       "      <td>Кофе</td>\n",
       "      <td>2</td>\n",
       "      <td>20</td>\n",
       "    </tr>\n",
       "    <tr>\n",
       "      <th>3</th>\n",
       "      <td>Белорусская</td>\n",
       "      <td>Чай</td>\n",
       "      <td>5</td>\n",
       "      <td>26</td>\n",
       "    </tr>\n",
       "    <tr>\n",
       "      <th>4</th>\n",
       "      <td>Сходненская</td>\n",
       "      <td>Кофе</td>\n",
       "      <td>7</td>\n",
       "      <td>108</td>\n",
       "    </tr>\n",
       "    <tr>\n",
       "      <th>5</th>\n",
       "      <td>Люблино</td>\n",
       "      <td>Кофе</td>\n",
       "      <td>10</td>\n",
       "      <td>167</td>\n",
       "    </tr>\n",
       "    <tr>\n",
       "      <th>6</th>\n",
       "      <td>Пражская</td>\n",
       "      <td>Чай</td>\n",
       "      <td>9</td>\n",
       "      <td>154</td>\n",
       "    </tr>\n",
       "    <tr>\n",
       "      <th>7</th>\n",
       "      <td>Юго-Западная</td>\n",
       "      <td>Чай</td>\n",
       "      <td>1</td>\n",
       "      <td>19</td>\n",
       "    </tr>\n",
       "    <tr>\n",
       "      <th>8</th>\n",
       "      <td>Калужская</td>\n",
       "      <td>Кофе</td>\n",
       "      <td>6</td>\n",
       "      <td>101</td>\n",
       "    </tr>\n",
       "    <tr>\n",
       "      <th>9</th>\n",
       "      <td>Ховрино</td>\n",
       "      <td>Чай</td>\n",
       "      <td>2</td>\n",
       "      <td>246</td>\n",
       "    </tr>\n",
       "    <tr>\n",
       "      <th>10</th>\n",
       "      <td>Павелецкая</td>\n",
       "      <td>Кофе</td>\n",
       "      <td>5</td>\n",
       "      <td>74</td>\n",
       "    </tr>\n",
       "  </tbody>\n",
       "</table>\n",
       "</div>"
      ],
      "text/plain": [
       "          Station Likes  Line  Station_id\n",
       "0           Сокол  Кофе     2          23\n",
       "1      Маяковская   Чай     2          27\n",
       "2   Речной вокзал  Кофе     2          20\n",
       "3     Белорусская   Чай     5          26\n",
       "4     Сходненская  Кофе     7         108\n",
       "5         Люблино  Кофе    10         167\n",
       "6        Пражская   Чай     9         154\n",
       "7    Юго-Западная   Чай     1          19\n",
       "8       Калужская  Кофе     6         101\n",
       "9         Ховрино   Чай     2         246\n",
       "10     Павелецкая  Кофе     5          74"
      ]
     },
     "execution_count": 60,
     "metadata": {},
     "output_type": "execute_result"
    }
   ],
   "source": [
    "# Таблица предпочтенй\n",
    "preferences = pd.read_csv('data/preferences.csv', header=None, names=['Station', 'Likes'])\n",
    "preferences['Line'] = [2, 2, 2, 5, 7, 10, 9, 1, 6, 2, 5]\n",
    "preferences['Station_id'] = [23, 27, 20, 26, 108, 167, 154, 19, 101, 246, 74]\n",
    "preferences"
   ]
  },
  {
   "cell_type": "markdown",
   "metadata": {},
   "source": [
    "#### Таблица Станция - ID в Яндекс.Метро"
   ]
  },
  {
   "cell_type": "code",
   "execution_count": 61,
   "metadata": {},
   "outputs": [
    {
     "data": {
      "text/html": [
       "<div>\n",
       "<style scoped>\n",
       "    .dataframe tbody tr th:only-of-type {\n",
       "        vertical-align: middle;\n",
       "    }\n",
       "\n",
       "    .dataframe tbody tr th {\n",
       "        vertical-align: top;\n",
       "    }\n",
       "\n",
       "    .dataframe thead th {\n",
       "        text-align: right;\n",
       "    }\n",
       "</style>\n",
       "<table border=\"1\" class=\"dataframe\">\n",
       "  <thead>\n",
       "    <tr style=\"text-align: right;\">\n",
       "      <th></th>\n",
       "      <th>line_id</th>\n",
       "      <th>station_name</th>\n",
       "      <th>station_id</th>\n",
       "      <th>line_name</th>\n",
       "    </tr>\n",
       "  </thead>\n",
       "  <tbody>\n",
       "    <tr>\n",
       "      <th>0</th>\n",
       "      <td>1</td>\n",
       "      <td>Бульвар Рокоссовского</td>\n",
       "      <td>1</td>\n",
       "      <td>Сокольническая линия</td>\n",
       "    </tr>\n",
       "    <tr>\n",
       "      <th>1</th>\n",
       "      <td>1</td>\n",
       "      <td>Черкизовская</td>\n",
       "      <td>2</td>\n",
       "      <td>Сокольническая линия</td>\n",
       "    </tr>\n",
       "    <tr>\n",
       "      <th>2</th>\n",
       "      <td>1</td>\n",
       "      <td>Преображенская площадь</td>\n",
       "      <td>3</td>\n",
       "      <td>Сокольническая линия</td>\n",
       "    </tr>\n",
       "    <tr>\n",
       "      <th>3</th>\n",
       "      <td>1</td>\n",
       "      <td>Сокольники</td>\n",
       "      <td>4</td>\n",
       "      <td>Сокольническая линия</td>\n",
       "    </tr>\n",
       "    <tr>\n",
       "      <th>4</th>\n",
       "      <td>1</td>\n",
       "      <td>Красносельская</td>\n",
       "      <td>5</td>\n",
       "      <td>Сокольническая линия</td>\n",
       "    </tr>\n",
       "  </tbody>\n",
       "</table>\n",
       "</div>"
      ],
      "text/plain": [
       "   line_id            station_name  station_id             line_name\n",
       "0        1   Бульвар Рокоссовского           1  Сокольническая линия\n",
       "1        1            Черкизовская           2  Сокольническая линия\n",
       "2        1  Преображенская площадь           3  Сокольническая линия\n",
       "3        1              Сокольники           4  Сокольническая линия\n",
       "4        1          Красносельская           5  Сокольническая линия"
      ]
     },
     "metadata": {},
     "output_type": "display_data"
    }
   ],
   "source": [
    "from metro_data import LINES, STATIONS\n",
    "\n",
    "metro_schema = pd.DataFrame(STATIONS.values()).rename(columns={'line': 'line_id', 'name': 'station_name'})\n",
    "metro_schema['station_id'] = STATIONS.keys()\n",
    "metro_schema['line_name'] = metro_schema.line_id.map(LINES)\n",
    "display(metro_schema.head())\n",
    "\n",
    "# usefull mappings \n",
    "station_id2station_name = dict(metro_schema[['station_id', 'station_name']].values)\n",
    "station_name2station_id = {v:k for k, v in station_id2station_name.items()}"
   ]
  },
  {
   "cell_type": "markdown",
   "metadata": {},
   "source": [
    "#### Запрос на Яндекс.Метро\n",
    "\n",
    "Для *nix"
   ]
  },
  {
   "cell_type": "code",
   "execution_count": 4,
   "metadata": {
    "scrolled": true
   },
   "outputs": [
    {
     "name": "stdout",
     "output_type": "stream",
     "text": [
      "/bin/bash: google-chrome: command not found\r\n"
     ]
    }
   ],
   "source": [
    "!google-chrome --version"
   ]
  },
  {
   "cell_type": "code",
   "execution_count": 5,
   "metadata": {},
   "outputs": [
    {
     "name": "stdout",
     "output_type": "stream",
     "text": [
      "/bin/bash: wget: command not found\n",
      "/bin/bash: ./chromedriver: No such file or directory\n"
     ]
    }
   ],
   "source": [
    "# Скачиваем нужный chromedriver\n",
    "!wget http://chromedriver.storage.googleapis.com/85.0.4183.87/chromedriver_linux64.zip \\\n",
    "    && unzip -o chromedriver_linux64.zip && rm chromedriver_linux64.zip\n",
    "!./chromedriver --version"
   ]
  },
  {
   "cell_type": "code",
   "execution_count": 111,
   "metadata": {},
   "outputs": [],
   "source": [
    "# Инициализация браузера, в котором будут вычисления\n",
    "chrome_options = Options()\n",
    "chrome_options.add_argument(\"--headless\")\n",
    "browser = webdriver.Chrome(f'{os.getcwd()}/chromedriver', options=chrome_options)"
   ]
  },
  {
   "cell_type": "code",
   "execution_count": 63,
   "metadata": {},
   "outputs": [],
   "source": [
    "@functools.lru_cache()\n",
    "def trace_metro_route(from_station_id: int, to_station_id: int) -> int:\n",
    "    # загружаем страницу\n",
    "    browser.get(f'https://yandex.ru/metro/moscow?from={from_station_id}&to={to_station_id}&route=0/') \n",
    "    time.sleep(1)\n",
    "    \n",
    "    # выполняем скрипт страницы (т.к. без его выполнения исходный код страницы\n",
    "    # не содержит необходимую информацию)\n",
    "    browser.execute_script('//yastatic.net/s3/front-maps-static/front-metro/2.11.9/build/index/_index.ru.js') \n",
    "    time.sleep(1)\n",
    "    \n",
    "    # информация о времени содержится в классе \"route-list-item__time\" в формате \"≈ 10 мин.\"\n",
    "    str_time = browser.find_element_by_class_name('masstransit-route-snippet-view__route-duration').text \n",
    "    print(f'Проезд до станции {station_id2station_name[to_station_id]} занимает {str_time}')\n",
    "    \n",
    "    # так как маршрут может занять больше часа, обрабатываем и такое время\n",
    "    # ищем подстроку с числом и преобразуем его в формат int\n",
    "    if ('м' in str_time)&('ч' in str_time):\n",
    "        return (int(str_time[str_time.find('≈')+1:str_time.find('ч')-1])*60 \n",
    "                + int(str_time[str_time.find('ч')+2:str_time.find('м')]))\n",
    "    elif 'ч' in str_time: \n",
    "        return (int(str_time[str_time.find('≈')+1:str_time.find('ч')-1])*60)\n",
    "    \n",
    "    return int(str_time[str_time.find('≈')+1:str_time.find('м')])"
   ]
  },
  {
   "cell_type": "code",
   "execution_count": 64,
   "metadata": {},
   "outputs": [],
   "source": [
    "def find_likes(new_station_id: int) -> str:\n",
    "    '''\n",
    "    brute force\n",
    "    '''\n",
    "    routes = preferences[['Station', 'Likes']]\n",
    "    \n",
    "    if new_station_id in preferences.Station_id.values:\n",
    "        return preferences[preferences.Station_id==new_station_id].Likes.values[0]\n",
    "    \n",
    "    routes['time'] = routes.Station.apply(\n",
    "        lambda station_name: trace_metro_route(new_station_id, station_name2station_id[station_name])\n",
    "    )\n",
    "\n",
    "    candidates = routes[routes.time == routes.time.min()]\n",
    "    if (len(candidates)>1)&(candidates.Likes.nunique()>1):\n",
    "        return 'чай и кофе одинаково'\n",
    "    return candidates.Likes.value_counts(sort=True).index[0]"
   ]
  },
  {
   "cell_type": "markdown",
   "metadata": {},
   "source": [
    "#### Интерфейс выбора станции\n",
    "\n",
    "![Схема в 2018 году](http://news.metro.ru/18/mm20180830.jpg)\n",
    "\n"
   ]
  },
  {
   "cell_type": "code",
   "execution_count": 65,
   "metadata": {},
   "outputs": [
    {
     "name": "stdout",
     "output_type": "stream",
     "text": [
      "Enabling notebook extension jupyter-js-widgets/extension...\n",
      "      - Validating: \u001b[32mOK\u001b[0m\n"
     ]
    }
   ],
   "source": [
    "!pip install -q ipywidgets\n",
    "!jupyter nbextension enable --py widgetsnbextension --sys-prefix"
   ]
  },
  {
   "cell_type": "code",
   "execution_count": 66,
   "metadata": {},
   "outputs": [],
   "source": [
    "import ipywidgets as widgets\n",
    "\n",
    "dropdown_line_selection = widgets.Dropdown(\n",
    "    options=metro_schema.line_name.unique(),\n",
    "    description='Линия метро:',\n",
    "    style={'description_width': 'initial'}\n",
    ")\n",
    "\n",
    "dropdown_station_selection = widgets.Dropdown(\n",
    "    options=metro_schema[\n",
    "        metro_schema.line_name == dropdown_line_selection.value\n",
    "    ].station_name.values,\n",
    "    description='Станция метро:',\n",
    "    style={'description_width': 'initial'}\n",
    ")\n",
    "\n",
    "def on_change(change):\n",
    "    if change['type'] == 'change' and change['name'] == 'value':\n",
    "        dropdown_station_selection.options = metro_schema[\n",
    "            metro_schema.line_name == change['new']\n",
    "        ].station_name.values\n",
    "\n",
    "dropdown_line_selection.observe(on_change)\n",
    "\n",
    "label_output = widgets.Label(style={'font_weight': 'bold'})\n",
    "\n",
    "button_predict = widgets.Button(\n",
    "    description='Предсказать',\n",
    "    disabled=False,\n",
    "    icon='check'\n",
    ") \n",
    "\n",
    "def on_predicted(change):\n",
    "    selected_station_name = dropdown_station_selection.value\n",
    "    label_output.value = f'Предсказание для станции {selected_station_name}...'\n",
    "    selected_station_preferences = find_likes(station_name2station_id[selected_station_name])\n",
    "    results = f'Жители станции метро {selected_station_name} вероятно предпочитают {selected_station_preferences}'\n",
    "    label_output.value = results\n",
    "\n",
    "button_predict.on_click(on_predicted)"
   ]
  },
  {
   "cell_type": "code",
   "execution_count": 67,
   "metadata": {
    "scrolled": false
   },
   "outputs": [
    {
     "data": {
      "application/vnd.jupyter.widget-view+json": {
       "model_id": "c56b783e50e148e793dc94ad9ae555e6",
       "version_major": 2,
       "version_minor": 0
      },
      "text/plain": [
       "VBox(children=(Dropdown(description='Линия метро:', options=('Сокольническая линия', 'Замоскворецкая линия', '…"
      ]
     },
     "metadata": {},
     "output_type": "display_data"
    },
    {
     "name": "stdout",
     "output_type": "stream",
     "text": [
      "Проезд до станции Сокол занимает 47 мин\n",
      "Проезд до станции Маяковская занимает 41 мин\n",
      "Проезд до станции Речной вокзал занимает 50 мин\n",
      "Проезд до станции Белорусская занимает 39 мин\n",
      "Проезд до станции Сходненская занимает 59 мин\n",
      "Проезд до станции Люблино занимает 54 мин\n",
      "Проезд до станции Пражская занимает 1 ч 8 мин\n",
      "Проезд до станции Юго-Западная занимает 53 мин\n",
      "Проезд до станции Калужская занимает 54 мин\n",
      "Проезд до станции Ховрино занимает 54 мин\n",
      "Проезд до станции Павелецкая занимает 39 мин\n"
     ]
    }
   ],
   "source": [
    "widgets.VBox([\n",
    "    dropdown_line_selection,\n",
    "    dropdown_station_selection,\n",
    "    button_predict,\n",
    "    label_output\n",
    "])"
   ]
  }
 ],
 "metadata": {
  "kernelspec": {
   "display_name": "Python 3",
   "language": "python",
   "name": "python3"
  },
  "language_info": {
   "codemirror_mode": {
    "name": "ipython",
    "version": 3
   },
   "file_extension": ".py",
   "mimetype": "text/x-python",
   "name": "python",
   "nbconvert_exporter": "python",
   "pygments_lexer": "ipython3",
   "version": "3.8.3"
  }
 },
 "nbformat": 4,
 "nbformat_minor": 4
}
